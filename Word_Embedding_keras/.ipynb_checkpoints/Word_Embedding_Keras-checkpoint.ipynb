{
 "cells": [
  {
   "cell_type": "markdown",
   "metadata": {},
   "source": [
    "* This is a practice notebook to learn keras word embedding implementation in a neural network"
   ]
  },
  {
   "cell_type": "markdown",
   "metadata": {},
   "source": [
    "* The Details can be found in this website\n",
    "https://machinelearningmastery.com/use-word-embedding-layers-deep-learning-keras/"
   ]
  },
  {
   "cell_type": "code",
   "execution_count": 1,
   "metadata": {},
   "outputs": [],
   "source": [
    "from tensorflow import keras"
   ]
  },
  {
   "cell_type": "code",
   "execution_count": 21,
   "metadata": {},
   "outputs": [],
   "source": [
    "from keras.layers import Dense, Flatten\n",
    "from keras.models import Sequential\n",
    "from keras.preprocessing.text import one_hot\n",
    "from keras.preprocessing.sequence import pad_sequences\n",
    "from keras.layers.embeddings import Embedding\n",
    "\n",
    "import numpy as np"
   ]
  },
  {
   "cell_type": "code",
   "execution_count": 6,
   "metadata": {},
   "outputs": [],
   "source": [
    "# define documents\n",
    "docs = ['Well done!',\n",
    "        'Good work',\n",
    "        'Great effort',\n",
    "        'nice work',\n",
    "        'Excellent!',\n",
    "        'Weak',\n",
    "        'Poor effort!',\n",
    "        'not good',\n",
    "        'poor work',\n",
    "        'Could have done better.']\n",
    "\n",
    "# define labels\n",
    "labels = np.array([1,1,1,1,1,0,0,0,0,0])"
   ]
  },
  {
   "cell_type": "code",
   "execution_count": 16,
   "metadata": {},
   "outputs": [
    {
     "data": {
      "text/plain": [
       "[37, 33]"
      ]
     },
     "execution_count": 16,
     "metadata": {},
     "output_type": "execute_result"
    }
   ],
   "source": [
    "one_hot('nice work' , 50)"
   ]
  },
  {
   "cell_type": "code",
   "execution_count": 17,
   "metadata": {},
   "outputs": [
    {
     "data": {
      "text/plain": [
       "[26, 33]"
      ]
     },
     "execution_count": 17,
     "metadata": {},
     "output_type": "execute_result"
    }
   ],
   "source": [
    "one_hot('Good work', 50)"
   ]
  },
  {
   "cell_type": "code",
   "execution_count": 19,
   "metadata": {},
   "outputs": [
    {
     "name": "stdout",
     "output_type": "stream",
     "text": [
      "[[21, 22], [26, 33], [39, 27], [37, 33], [27], [1], [34, 27], [32, 26], [34, 33], [11, 14, 22, 3]]\n"
     ]
    }
   ],
   "source": [
    "# integer encode the document\n",
    "vocab_size = 50\n",
    "embedded_docs = [one_hot(d, vocab_size) for d in docs]\n",
    "print(embedded_docs)"
   ]
  },
  {
   "cell_type": "code",
   "execution_count": 20,
   "metadata": {},
   "outputs": [
    {
     "name": "stdout",
     "output_type": "stream",
     "text": [
      "[[21 22  0  0]\n",
      " [26 33  0  0]\n",
      " [39 27  0  0]\n",
      " [37 33  0  0]\n",
      " [27  0  0  0]\n",
      " [ 1  0  0  0]\n",
      " [34 27  0  0]\n",
      " [32 26  0  0]\n",
      " [34 33  0  0]\n",
      " [11 14 22  3]]\n"
     ]
    }
   ],
   "source": [
    "# pad documents to a max length of 4\n",
    "max_length = 4\n",
    "padded_docs = pad_sequences(embedded_docs, maxlen=max_length, padding='post')\n",
    "print(padded_docs)"
   ]
  },
  {
   "cell_type": "code",
   "execution_count": 27,
   "metadata": {},
   "outputs": [
    {
     "name": "stdout",
     "output_type": "stream",
     "text": [
      "Model: \"sequential_1\"\n",
      "_________________________________________________________________\n",
      " Layer (type)                Output Shape              Param #   \n",
      "=================================================================\n",
      " embedding (Embedding)       (None, 4, 8)              400       \n",
      "                                                                 \n",
      " flatten_1 (Flatten)         (None, 32)                0         \n",
      "                                                                 \n",
      " dense_1 (Dense)             (None, 1)                 33        \n",
      "                                                                 \n",
      "=================================================================\n",
      "Total params: 433\n",
      "Trainable params: 433\n",
      "Non-trainable params: 0\n",
      "_________________________________________________________________\n"
     ]
    }
   ],
   "source": [
    "# Building the model\n",
    "model = Sequential()\n",
    "model.add(Embedding(vocab_size, 8, input_length=max_length, name='embedding'))\n",
    "model.add(Flatten())\n",
    "model.add(Dense(1, activation='sigmoid'))\n",
    "\n",
    "model.summary()"
   ]
  },
  {
   "cell_type": "code",
   "execution_count": 28,
   "metadata": {},
   "outputs": [],
   "source": [
    "model.compile(optimizer='adam',\n",
    "             loss = 'binary_crossentropy',\n",
    "             metrics=['accuracy'])"
   ]
  },
  {
   "cell_type": "code",
   "execution_count": 29,
   "metadata": {},
   "outputs": [],
   "source": [
    "X = padded_docs\n",
    "y = labels"
   ]
  },
  {
   "cell_type": "code",
   "execution_count": 30,
   "metadata": {},
   "outputs": [
    {
     "name": "stdout",
     "output_type": "stream",
     "text": [
      "Epoch 1/200\n",
      "1/1 [==============================] - 1s 1s/step - loss: 0.6968 - accuracy: 0.5000\n",
      "Epoch 2/200\n",
      "1/1 [==============================] - 0s 13ms/step - loss: 0.6955 - accuracy: 0.5000\n",
      "Epoch 3/200\n",
      "1/1 [==============================] - 0s 14ms/step - loss: 0.6943 - accuracy: 0.5000\n",
      "Epoch 4/200\n",
      "1/1 [==============================] - 0s 8ms/step - loss: 0.6931 - accuracy: 0.5000\n",
      "Epoch 5/200\n",
      "1/1 [==============================] - 0s 11ms/step - loss: 0.6919 - accuracy: 0.5000\n",
      "Epoch 6/200\n",
      "1/1 [==============================] - 0s 11ms/step - loss: 0.6906 - accuracy: 0.5000\n",
      "Epoch 7/200\n",
      "1/1 [==============================] - 0s 12ms/step - loss: 0.6894 - accuracy: 0.5000\n",
      "Epoch 8/200\n",
      "1/1 [==============================] - 0s 14ms/step - loss: 0.6882 - accuracy: 0.5000\n",
      "Epoch 9/200\n",
      "1/1 [==============================] - 0s 7ms/step - loss: 0.6870 - accuracy: 0.5000\n",
      "Epoch 10/200\n",
      "1/1 [==============================] - 0s 13ms/step - loss: 0.6858 - accuracy: 0.6000\n",
      "Epoch 11/200\n",
      "1/1 [==============================] - 0s 11ms/step - loss: 0.6845 - accuracy: 0.7000\n",
      "Epoch 12/200\n",
      "1/1 [==============================] - 0s 6ms/step - loss: 0.6833 - accuracy: 0.8000\n",
      "Epoch 13/200\n",
      "1/1 [==============================] - 0s 7ms/step - loss: 0.6821 - accuracy: 0.8000\n",
      "Epoch 14/200\n",
      "1/1 [==============================] - 0s 6ms/step - loss: 0.6809 - accuracy: 0.8000\n",
      "Epoch 15/200\n",
      "1/1 [==============================] - 0s 7ms/step - loss: 0.6796 - accuracy: 0.8000\n",
      "Epoch 16/200\n",
      "1/1 [==============================] - 0s 7ms/step - loss: 0.6784 - accuracy: 0.9000\n",
      "Epoch 17/200\n",
      "1/1 [==============================] - 0s 8ms/step - loss: 0.6772 - accuracy: 0.9000\n",
      "Epoch 18/200\n",
      "1/1 [==============================] - 0s 8ms/step - loss: 0.6760 - accuracy: 0.9000\n",
      "Epoch 19/200\n",
      "1/1 [==============================] - 0s 5ms/step - loss: 0.6747 - accuracy: 0.9000\n",
      "Epoch 20/200\n",
      "1/1 [==============================] - 0s 7ms/step - loss: 0.6735 - accuracy: 0.9000\n",
      "Epoch 21/200\n",
      "1/1 [==============================] - 0s 9ms/step - loss: 0.6722 - accuracy: 0.9000\n",
      "Epoch 22/200\n",
      "1/1 [==============================] - 0s 9ms/step - loss: 0.6710 - accuracy: 0.9000\n",
      "Epoch 23/200\n",
      "1/1 [==============================] - 0s 10ms/step - loss: 0.6697 - accuracy: 0.9000\n",
      "Epoch 24/200\n",
      "1/1 [==============================] - 0s 9ms/step - loss: 0.6685 - accuracy: 0.9000\n",
      "Epoch 25/200\n",
      "1/1 [==============================] - 0s 7ms/step - loss: 0.6672 - accuracy: 0.9000\n",
      "Epoch 26/200\n",
      "1/1 [==============================] - 0s 7ms/step - loss: 0.6659 - accuracy: 0.9000\n",
      "Epoch 27/200\n",
      "1/1 [==============================] - 0s 10ms/step - loss: 0.6646 - accuracy: 0.9000\n",
      "Epoch 28/200\n",
      "1/1 [==============================] - 0s 6ms/step - loss: 0.6633 - accuracy: 0.9000\n",
      "Epoch 29/200\n",
      "1/1 [==============================] - 0s 15ms/step - loss: 0.6620 - accuracy: 0.9000\n",
      "Epoch 30/200\n",
      "1/1 [==============================] - 0s 10ms/step - loss: 0.6607 - accuracy: 0.8000\n",
      "Epoch 31/200\n",
      "1/1 [==============================] - 0s 12ms/step - loss: 0.6594 - accuracy: 0.8000\n",
      "Epoch 32/200\n",
      "1/1 [==============================] - 0s 11ms/step - loss: 0.6581 - accuracy: 0.8000\n",
      "Epoch 33/200\n",
      "1/1 [==============================] - 0s 7ms/step - loss: 0.6568 - accuracy: 0.8000\n",
      "Epoch 34/200\n",
      "1/1 [==============================] - 0s 10ms/step - loss: 0.6554 - accuracy: 0.8000\n",
      "Epoch 35/200\n",
      "1/1 [==============================] - 0s 12ms/step - loss: 0.6541 - accuracy: 0.8000\n",
      "Epoch 36/200\n",
      "1/1 [==============================] - 0s 12ms/step - loss: 0.6527 - accuracy: 0.8000\n",
      "Epoch 37/200\n",
      "1/1 [==============================] - 0s 10ms/step - loss: 0.6513 - accuracy: 0.8000\n",
      "Epoch 38/200\n",
      "1/1 [==============================] - 0s 6ms/step - loss: 0.6499 - accuracy: 0.8000\n",
      "Epoch 39/200\n",
      "1/1 [==============================] - 0s 17ms/step - loss: 0.6485 - accuracy: 0.8000\n",
      "Epoch 40/200\n",
      "1/1 [==============================] - 0s 7ms/step - loss: 0.6471 - accuracy: 0.8000\n",
      "Epoch 41/200\n",
      "1/1 [==============================] - 0s 14ms/step - loss: 0.6457 - accuracy: 0.8000\n",
      "Epoch 42/200\n",
      "1/1 [==============================] - 0s 9ms/step - loss: 0.6442 - accuracy: 0.8000\n",
      "Epoch 43/200\n",
      "1/1 [==============================] - 0s 7ms/step - loss: 0.6428 - accuracy: 0.8000\n",
      "Epoch 44/200\n",
      "1/1 [==============================] - 0s 9ms/step - loss: 0.6413 - accuracy: 0.8000\n",
      "Epoch 45/200\n",
      "1/1 [==============================] - 0s 10ms/step - loss: 0.6398 - accuracy: 0.8000\n",
      "Epoch 46/200\n",
      "1/1 [==============================] - 0s 7ms/step - loss: 0.6384 - accuracy: 0.8000\n",
      "Epoch 47/200\n",
      "1/1 [==============================] - 0s 10ms/step - loss: 0.6369 - accuracy: 0.8000\n",
      "Epoch 48/200\n",
      "1/1 [==============================] - 0s 13ms/step - loss: 0.6353 - accuracy: 0.8000\n",
      "Epoch 49/200\n",
      "1/1 [==============================] - 0s 8ms/step - loss: 0.6338 - accuracy: 0.9000\n",
      "Epoch 50/200\n",
      "1/1 [==============================] - 0s 10ms/step - loss: 0.6323 - accuracy: 0.9000\n",
      "Epoch 51/200\n",
      "1/1 [==============================] - 0s 6ms/step - loss: 0.6307 - accuracy: 0.9000\n",
      "Epoch 52/200\n",
      "1/1 [==============================] - 0s 16ms/step - loss: 0.6292 - accuracy: 0.9000\n",
      "Epoch 53/200\n",
      "1/1 [==============================] - 0s 19ms/step - loss: 0.6276 - accuracy: 0.9000\n",
      "Epoch 54/200\n",
      "1/1 [==============================] - 0s 6ms/step - loss: 0.6260 - accuracy: 0.9000\n",
      "Epoch 55/200\n",
      "1/1 [==============================] - 0s 16ms/step - loss: 0.6244 - accuracy: 0.9000\n",
      "Epoch 56/200\n",
      "1/1 [==============================] - 0s 8ms/step - loss: 0.6228 - accuracy: 0.9000\n",
      "Epoch 57/200\n",
      "1/1 [==============================] - 0s 9ms/step - loss: 0.6211 - accuracy: 0.9000\n",
      "Epoch 58/200\n",
      "1/1 [==============================] - 0s 9ms/step - loss: 0.6195 - accuracy: 0.9000\n",
      "Epoch 59/200\n",
      "1/1 [==============================] - 0s 17ms/step - loss: 0.6178 - accuracy: 0.9000\n",
      "Epoch 60/200\n",
      "1/1 [==============================] - 0s 8ms/step - loss: 0.6161 - accuracy: 0.9000\n",
      "Epoch 61/200\n",
      "1/1 [==============================] - 0s 6ms/step - loss: 0.6145 - accuracy: 0.9000\n",
      "Epoch 62/200\n",
      "1/1 [==============================] - 0s 7ms/step - loss: 0.6128 - accuracy: 0.9000\n",
      "Epoch 63/200\n",
      "1/1 [==============================] - 0s 13ms/step - loss: 0.6111 - accuracy: 0.9000\n",
      "Epoch 64/200\n",
      "1/1 [==============================] - 0s 9ms/step - loss: 0.6093 - accuracy: 0.9000\n",
      "Epoch 65/200\n",
      "1/1 [==============================] - 0s 13ms/step - loss: 0.6076 - accuracy: 0.9000\n",
      "Epoch 66/200\n",
      "1/1 [==============================] - 0s 11ms/step - loss: 0.6058 - accuracy: 0.9000\n",
      "Epoch 67/200\n",
      "1/1 [==============================] - 0s 12ms/step - loss: 0.6041 - accuracy: 0.9000\n",
      "Epoch 68/200\n",
      "1/1 [==============================] - 0s 5ms/step - loss: 0.6023 - accuracy: 0.9000\n",
      "Epoch 69/200\n",
      "1/1 [==============================] - 0s 5ms/step - loss: 0.6005 - accuracy: 0.9000\n",
      "Epoch 70/200\n",
      "1/1 [==============================] - 0s 12ms/step - loss: 0.5987 - accuracy: 0.9000\n",
      "Epoch 71/200\n",
      "1/1 [==============================] - 0s 8ms/step - loss: 0.5969 - accuracy: 0.9000\n",
      "Epoch 72/200\n",
      "1/1 [==============================] - 0s 9ms/step - loss: 0.5951 - accuracy: 0.9000\n",
      "Epoch 73/200\n",
      "1/1 [==============================] - 0s 10ms/step - loss: 0.5933 - accuracy: 0.9000\n",
      "Epoch 74/200\n",
      "1/1 [==============================] - 0s 9ms/step - loss: 0.5914 - accuracy: 0.9000\n",
      "Epoch 75/200\n",
      "1/1 [==============================] - 0s 8ms/step - loss: 0.5896 - accuracy: 0.9000\n",
      "Epoch 76/200\n",
      "1/1 [==============================] - 0s 6ms/step - loss: 0.5877 - accuracy: 0.9000\n",
      "Epoch 77/200\n",
      "1/1 [==============================] - 0s 12ms/step - loss: 0.5858 - accuracy: 0.9000\n",
      "Epoch 78/200\n",
      "1/1 [==============================] - 0s 12ms/step - loss: 0.5839 - accuracy: 0.9000\n",
      "Epoch 79/200\n",
      "1/1 [==============================] - 0s 7ms/step - loss: 0.5820 - accuracy: 0.9000\n",
      "Epoch 80/200\n",
      "1/1 [==============================] - 0s 17ms/step - loss: 0.5801 - accuracy: 0.9000\n",
      "Epoch 81/200\n",
      "1/1 [==============================] - 0s 9ms/step - loss: 0.5782 - accuracy: 0.9000\n",
      "Epoch 82/200\n",
      "1/1 [==============================] - 0s 6ms/step - loss: 0.5763 - accuracy: 0.9000\n",
      "Epoch 83/200\n",
      "1/1 [==============================] - 0s 9ms/step - loss: 0.5743 - accuracy: 0.9000\n",
      "Epoch 84/200\n"
     ]
    },
    {
     "name": "stdout",
     "output_type": "stream",
     "text": [
      "1/1 [==============================] - 0s 7ms/step - loss: 0.5724 - accuracy: 0.9000\n",
      "Epoch 85/200\n",
      "1/1 [==============================] - 0s 6ms/step - loss: 0.5704 - accuracy: 0.9000\n",
      "Epoch 86/200\n",
      "1/1 [==============================] - 0s 5ms/step - loss: 0.5684 - accuracy: 0.9000\n",
      "Epoch 87/200\n",
      "1/1 [==============================] - 0s 9ms/step - loss: 0.5664 - accuracy: 0.9000\n",
      "Epoch 88/200\n",
      "1/1 [==============================] - 0s 7ms/step - loss: 0.5645 - accuracy: 0.9000\n",
      "Epoch 89/200\n",
      "1/1 [==============================] - 0s 8ms/step - loss: 0.5625 - accuracy: 0.9000\n",
      "Epoch 90/200\n",
      "1/1 [==============================] - 0s 9ms/step - loss: 0.5604 - accuracy: 0.9000\n",
      "Epoch 91/200\n",
      "1/1 [==============================] - 0s 7ms/step - loss: 0.5584 - accuracy: 0.9000\n",
      "Epoch 92/200\n",
      "1/1 [==============================] - 0s 12ms/step - loss: 0.5564 - accuracy: 0.9000\n",
      "Epoch 93/200\n",
      "1/1 [==============================] - 0s 8ms/step - loss: 0.5544 - accuracy: 0.9000\n",
      "Epoch 94/200\n",
      "1/1 [==============================] - 0s 11ms/step - loss: 0.5523 - accuracy: 0.9000\n",
      "Epoch 95/200\n",
      "1/1 [==============================] - 0s 9ms/step - loss: 0.5503 - accuracy: 0.9000\n",
      "Epoch 96/200\n",
      "1/1 [==============================] - 0s 11ms/step - loss: 0.5482 - accuracy: 0.9000\n",
      "Epoch 97/200\n",
      "1/1 [==============================] - 0s 7ms/step - loss: 0.5462 - accuracy: 0.9000\n",
      "Epoch 98/200\n",
      "1/1 [==============================] - 0s 11ms/step - loss: 0.5441 - accuracy: 0.9000\n",
      "Epoch 99/200\n",
      "1/1 [==============================] - 0s 7ms/step - loss: 0.5420 - accuracy: 0.9000\n",
      "Epoch 100/200\n",
      "1/1 [==============================] - 0s 10ms/step - loss: 0.5399 - accuracy: 0.9000\n",
      "Epoch 101/200\n",
      "1/1 [==============================] - 0s 10ms/step - loss: 0.5378 - accuracy: 0.9000\n",
      "Epoch 102/200\n",
      "1/1 [==============================] - 0s 8ms/step - loss: 0.5357 - accuracy: 0.9000\n",
      "Epoch 103/200\n",
      "1/1 [==============================] - 0s 14ms/step - loss: 0.5336 - accuracy: 0.9000\n",
      "Epoch 104/200\n",
      "1/1 [==============================] - 0s 9ms/step - loss: 0.5315 - accuracy: 0.9000\n",
      "Epoch 105/200\n",
      "1/1 [==============================] - 0s 8ms/step - loss: 0.5294 - accuracy: 0.9000\n",
      "Epoch 106/200\n",
      "1/1 [==============================] - 0s 9ms/step - loss: 0.5273 - accuracy: 0.9000\n",
      "Epoch 107/200\n",
      "1/1 [==============================] - 0s 18ms/step - loss: 0.5251 - accuracy: 0.9000\n",
      "Epoch 108/200\n",
      "1/1 [==============================] - 0s 14ms/step - loss: 0.5230 - accuracy: 0.9000\n",
      "Epoch 109/200\n",
      "1/1 [==============================] - 0s 8ms/step - loss: 0.5209 - accuracy: 0.9000\n",
      "Epoch 110/200\n",
      "1/1 [==============================] - 0s 8ms/step - loss: 0.5187 - accuracy: 0.9000\n",
      "Epoch 111/200\n",
      "1/1 [==============================] - 0s 8ms/step - loss: 0.5166 - accuracy: 0.9000\n",
      "Epoch 112/200\n",
      "1/1 [==============================] - 0s 11ms/step - loss: 0.5144 - accuracy: 0.9000\n",
      "Epoch 113/200\n",
      "1/1 [==============================] - 0s 9ms/step - loss: 0.5123 - accuracy: 0.9000\n",
      "Epoch 114/200\n",
      "1/1 [==============================] - 0s 7ms/step - loss: 0.5101 - accuracy: 0.9000\n",
      "Epoch 115/200\n",
      "1/1 [==============================] - 0s 8ms/step - loss: 0.5079 - accuracy: 0.9000\n",
      "Epoch 116/200\n",
      "1/1 [==============================] - 0s 8ms/step - loss: 0.5058 - accuracy: 0.9000\n",
      "Epoch 117/200\n",
      "1/1 [==============================] - 0s 8ms/step - loss: 0.5036 - accuracy: 0.9000\n",
      "Epoch 118/200\n",
      "1/1 [==============================] - 0s 10ms/step - loss: 0.5014 - accuracy: 0.9000\n",
      "Epoch 119/200\n",
      "1/1 [==============================] - 0s 12ms/step - loss: 0.4992 - accuracy: 0.9000\n",
      "Epoch 120/200\n",
      "1/1 [==============================] - 0s 7ms/step - loss: 0.4970 - accuracy: 0.9000\n",
      "Epoch 121/200\n",
      "1/1 [==============================] - 0s 8ms/step - loss: 0.4949 - accuracy: 0.9000\n",
      "Epoch 122/200\n",
      "1/1 [==============================] - 0s 7ms/step - loss: 0.4927 - accuracy: 0.9000\n",
      "Epoch 123/200\n",
      "1/1 [==============================] - 0s 8ms/step - loss: 0.4905 - accuracy: 0.9000\n",
      "Epoch 124/200\n",
      "1/1 [==============================] - 0s 7ms/step - loss: 0.4883 - accuracy: 0.9000\n",
      "Epoch 125/200\n",
      "1/1 [==============================] - 0s 7ms/step - loss: 0.4861 - accuracy: 0.9000\n",
      "Epoch 126/200\n",
      "1/1 [==============================] - 0s 8ms/step - loss: 0.4839 - accuracy: 0.9000\n",
      "Epoch 127/200\n",
      "1/1 [==============================] - 0s 8ms/step - loss: 0.4817 - accuracy: 0.9000\n",
      "Epoch 128/200\n",
      "1/1 [==============================] - 0s 10ms/step - loss: 0.4795 - accuracy: 0.9000\n",
      "Epoch 129/200\n",
      "1/1 [==============================] - 0s 8ms/step - loss: 0.4773 - accuracy: 0.9000\n",
      "Epoch 130/200\n",
      "1/1 [==============================] - 0s 9ms/step - loss: 0.4751 - accuracy: 0.9000\n",
      "Epoch 131/200\n",
      "1/1 [==============================] - 0s 5ms/step - loss: 0.4729 - accuracy: 0.9000\n",
      "Epoch 132/200\n",
      "1/1 [==============================] - 0s 9ms/step - loss: 0.4707 - accuracy: 0.9000\n",
      "Epoch 133/200\n",
      "1/1 [==============================] - 0s 9ms/step - loss: 0.4685 - accuracy: 0.9000\n",
      "Epoch 134/200\n",
      "1/1 [==============================] - 0s 10ms/step - loss: 0.4663 - accuracy: 0.9000\n",
      "Epoch 135/200\n",
      "1/1 [==============================] - 0s 7ms/step - loss: 0.4641 - accuracy: 0.9000\n",
      "Epoch 136/200\n",
      "1/1 [==============================] - 0s 7ms/step - loss: 0.4619 - accuracy: 0.9000\n",
      "Epoch 137/200\n",
      "1/1 [==============================] - 0s 8ms/step - loss: 0.4597 - accuracy: 0.9000\n",
      "Epoch 138/200\n",
      "1/1 [==============================] - 0s 8ms/step - loss: 0.4575 - accuracy: 0.9000\n",
      "Epoch 139/200\n",
      "1/1 [==============================] - 0s 14ms/step - loss: 0.4553 - accuracy: 0.9000\n",
      "Epoch 140/200\n",
      "1/1 [==============================] - 0s 9ms/step - loss: 0.4531 - accuracy: 0.9000\n",
      "Epoch 141/200\n",
      "1/1 [==============================] - 0s 7ms/step - loss: 0.4509 - accuracy: 0.9000\n",
      "Epoch 142/200\n",
      "1/1 [==============================] - 0s 8ms/step - loss: 0.4487 - accuracy: 0.9000\n",
      "Epoch 143/200\n",
      "1/1 [==============================] - 0s 10ms/step - loss: 0.4465 - accuracy: 0.9000\n",
      "Epoch 144/200\n",
      "1/1 [==============================] - 0s 7ms/step - loss: 0.4443 - accuracy: 0.9000\n",
      "Epoch 145/200\n",
      "1/1 [==============================] - 0s 7ms/step - loss: 0.4421 - accuracy: 0.9000\n",
      "Epoch 146/200\n",
      "1/1 [==============================] - 0s 7ms/step - loss: 0.4399 - accuracy: 0.9000\n",
      "Epoch 147/200\n",
      "1/1 [==============================] - 0s 7ms/step - loss: 0.4377 - accuracy: 1.0000\n",
      "Epoch 148/200\n",
      "1/1 [==============================] - 0s 9ms/step - loss: 0.4355 - accuracy: 1.0000\n",
      "Epoch 149/200\n",
      "1/1 [==============================] - 0s 8ms/step - loss: 0.4333 - accuracy: 1.0000\n",
      "Epoch 150/200\n",
      "1/1 [==============================] - 0s 6ms/step - loss: 0.4312 - accuracy: 1.0000\n",
      "Epoch 151/200\n",
      "1/1 [==============================] - 0s 6ms/step - loss: 0.4290 - accuracy: 1.0000\n",
      "Epoch 152/200\n",
      "1/1 [==============================] - 0s 6ms/step - loss: 0.4268 - accuracy: 1.0000\n",
      "Epoch 153/200\n",
      "1/1 [==============================] - 0s 10ms/step - loss: 0.4246 - accuracy: 1.0000\n",
      "Epoch 154/200\n",
      "1/1 [==============================] - 0s 7ms/step - loss: 0.4225 - accuracy: 1.0000\n",
      "Epoch 155/200\n",
      "1/1 [==============================] - 0s 7ms/step - loss: 0.4203 - accuracy: 1.0000\n",
      "Epoch 156/200\n",
      "1/1 [==============================] - 0s 7ms/step - loss: 0.4181 - accuracy: 1.0000\n",
      "Epoch 157/200\n",
      "1/1 [==============================] - 0s 7ms/step - loss: 0.4160 - accuracy: 1.0000\n",
      "Epoch 158/200\n",
      "1/1 [==============================] - 0s 11ms/step - loss: 0.4138 - accuracy: 1.0000\n",
      "Epoch 159/200\n",
      "1/1 [==============================] - 0s 7ms/step - loss: 0.4117 - accuracy: 1.0000\n",
      "Epoch 160/200\n",
      "1/1 [==============================] - 0s 8ms/step - loss: 0.4095 - accuracy: 1.0000\n",
      "Epoch 161/200\n",
      "1/1 [==============================] - 0s 7ms/step - loss: 0.4074 - accuracy: 1.0000\n",
      "Epoch 162/200\n",
      "1/1 [==============================] - 0s 11ms/step - loss: 0.4052 - accuracy: 1.0000\n",
      "Epoch 163/200\n",
      "1/1 [==============================] - 0s 9ms/step - loss: 0.4031 - accuracy: 1.0000\n",
      "Epoch 164/200\n",
      "1/1 [==============================] - 0s 11ms/step - loss: 0.4009 - accuracy: 1.0000\n",
      "Epoch 165/200\n",
      "1/1 [==============================] - 0s 7ms/step - loss: 0.3988 - accuracy: 1.0000\n",
      "Epoch 166/200\n"
     ]
    },
    {
     "name": "stdout",
     "output_type": "stream",
     "text": [
      "1/1 [==============================] - 0s 10ms/step - loss: 0.3967 - accuracy: 1.0000\n",
      "Epoch 167/200\n",
      "1/1 [==============================] - 0s 7ms/step - loss: 0.3946 - accuracy: 1.0000\n",
      "Epoch 168/200\n",
      "1/1 [==============================] - 0s 5ms/step - loss: 0.3925 - accuracy: 1.0000\n",
      "Epoch 169/200\n",
      "1/1 [==============================] - 0s 9ms/step - loss: 0.3903 - accuracy: 1.0000\n",
      "Epoch 170/200\n",
      "1/1 [==============================] - 0s 10ms/step - loss: 0.3882 - accuracy: 1.0000\n",
      "Epoch 171/200\n",
      "1/1 [==============================] - 0s 10ms/step - loss: 0.3861 - accuracy: 1.0000\n",
      "Epoch 172/200\n",
      "1/1 [==============================] - 0s 7ms/step - loss: 0.3840 - accuracy: 1.0000\n",
      "Epoch 173/200\n",
      "1/1 [==============================] - 0s 6ms/step - loss: 0.3819 - accuracy: 1.0000\n",
      "Epoch 174/200\n",
      "1/1 [==============================] - 0s 9ms/step - loss: 0.3799 - accuracy: 1.0000\n",
      "Epoch 175/200\n",
      "1/1 [==============================] - 0s 6ms/step - loss: 0.3778 - accuracy: 1.0000\n",
      "Epoch 176/200\n",
      "1/1 [==============================] - 0s 8ms/step - loss: 0.3757 - accuracy: 1.0000\n",
      "Epoch 177/200\n",
      "1/1 [==============================] - 0s 11ms/step - loss: 0.3736 - accuracy: 1.0000\n",
      "Epoch 178/200\n",
      "1/1 [==============================] - 0s 7ms/step - loss: 0.3716 - accuracy: 1.0000\n",
      "Epoch 179/200\n",
      "1/1 [==============================] - 0s 9ms/step - loss: 0.3695 - accuracy: 1.0000\n",
      "Epoch 180/200\n",
      "1/1 [==============================] - 0s 8ms/step - loss: 0.3675 - accuracy: 1.0000\n",
      "Epoch 181/200\n",
      "1/1 [==============================] - 0s 13ms/step - loss: 0.3654 - accuracy: 1.0000\n",
      "Epoch 182/200\n",
      "1/1 [==============================] - 0s 7ms/step - loss: 0.3634 - accuracy: 1.0000\n",
      "Epoch 183/200\n",
      "1/1 [==============================] - 0s 8ms/step - loss: 0.3614 - accuracy: 1.0000\n",
      "Epoch 184/200\n",
      "1/1 [==============================] - 0s 10ms/step - loss: 0.3593 - accuracy: 1.0000\n",
      "Epoch 185/200\n",
      "1/1 [==============================] - 0s 10ms/step - loss: 0.3573 - accuracy: 1.0000\n",
      "Epoch 186/200\n",
      "1/1 [==============================] - 0s 13ms/step - loss: 0.3553 - accuracy: 1.0000\n",
      "Epoch 187/200\n",
      "1/1 [==============================] - 0s 8ms/step - loss: 0.3533 - accuracy: 1.0000\n",
      "Epoch 188/200\n",
      "1/1 [==============================] - 0s 9ms/step - loss: 0.3513 - accuracy: 1.0000\n",
      "Epoch 189/200\n",
      "1/1 [==============================] - 0s 7ms/step - loss: 0.3493 - accuracy: 1.0000\n",
      "Epoch 190/200\n",
      "1/1 [==============================] - 0s 9ms/step - loss: 0.3473 - accuracy: 1.0000\n",
      "Epoch 191/200\n",
      "1/1 [==============================] - 0s 12ms/step - loss: 0.3453 - accuracy: 1.0000\n",
      "Epoch 192/200\n",
      "1/1 [==============================] - 0s 10ms/step - loss: 0.3434 - accuracy: 1.0000\n",
      "Epoch 193/200\n",
      "1/1 [==============================] - 0s 6ms/step - loss: 0.3414 - accuracy: 1.0000\n",
      "Epoch 194/200\n",
      "1/1 [==============================] - 0s 7ms/step - loss: 0.3394 - accuracy: 1.0000\n",
      "Epoch 195/200\n",
      "1/1 [==============================] - 0s 9ms/step - loss: 0.3375 - accuracy: 1.0000\n",
      "Epoch 196/200\n",
      "1/1 [==============================] - 0s 9ms/step - loss: 0.3356 - accuracy: 1.0000\n",
      "Epoch 197/200\n",
      "1/1 [==============================] - 0s 10ms/step - loss: 0.3336 - accuracy: 1.0000\n",
      "Epoch 198/200\n",
      "1/1 [==============================] - 0s 7ms/step - loss: 0.3317 - accuracy: 1.0000\n",
      "Epoch 199/200\n",
      "1/1 [==============================] - 0s 8ms/step - loss: 0.3298 - accuracy: 1.0000\n",
      "Epoch 200/200\n",
      "1/1 [==============================] - 0s 9ms/step - loss: 0.3278 - accuracy: 1.0000\n"
     ]
    },
    {
     "data": {
      "text/plain": [
       "<keras.callbacks.History at 0x7f1568a77ef0>"
      ]
     },
     "execution_count": 30,
     "metadata": {},
     "output_type": "execute_result"
    }
   ],
   "source": [
    "model.fit(X, y, epochs=200)"
   ]
  },
  {
   "cell_type": "code",
   "execution_count": 43,
   "metadata": {},
   "outputs": [],
   "source": [
    "weights = model.get_layer('embedding').get_weights()[0]"
   ]
  },
  {
   "cell_type": "code",
   "execution_count": 44,
   "metadata": {},
   "outputs": [
    {
     "data": {
      "text/plain": [
       "50"
      ]
     },
     "execution_count": 44,
     "metadata": {},
     "output_type": "execute_result"
    }
   ],
   "source": [
    "len(weights)"
   ]
  },
  {
   "cell_type": "code",
   "execution_count": 45,
   "metadata": {},
   "outputs": [
    {
     "data": {
      "text/plain": [
       "array([ 0.00114076,  0.01738593,  0.14320786,  0.06402583, -0.14787255,\n",
       "       -0.08380801,  0.09744983, -0.02914762], dtype=float32)"
      ]
     },
     "execution_count": 45,
     "metadata": {},
     "output_type": "execute_result"
    }
   ],
   "source": [
    "weights[0]"
   ]
  },
  {
   "cell_type": "code",
   "execution_count": 46,
   "metadata": {},
   "outputs": [
    {
     "name": "stdout",
     "output_type": "stream",
     "text": [
      "1/1 [==============================] - 0s 303ms/step - loss: 0.3259 - accuracy: 1.0000\n"
     ]
    }
   ],
   "source": [
    "loss, accuracy = model.evaluate(X, y)"
   ]
  },
  {
   "cell_type": "code",
   "execution_count": 47,
   "metadata": {},
   "outputs": [
    {
     "data": {
      "text/plain": [
       "(0.32594212889671326, 1.0)"
      ]
     },
     "execution_count": 47,
     "metadata": {},
     "output_type": "execute_result"
    }
   ],
   "source": [
    "loss, accuracy"
   ]
  },
  {
   "cell_type": "code",
   "execution_count": 51,
   "metadata": {},
   "outputs": [
    {
     "name": "stdout",
     "output_type": "stream",
     "text": [
      "[[6, 2], [3, 1], [7, 4], [8, 1], [9], [10], [5, 4], [11, 3], [5, 1], [12, 13, 2, 14]]\n",
      "{'work': 1, 'done': 2, 'good': 3, 'effort': 4, 'poor': 5, 'well': 6, 'great': 7, 'nice': 8, 'excellent': 9, 'weak': 10, 'not': 11, 'could': 12, 'have': 13, 'better': 14}\n"
     ]
    }
   ],
   "source": [
    "from keras.preprocessing.text import Tokenizer\n",
    "# define documents\n",
    "docs = ['Well done!',\n",
    "\t\t'Good work',\n",
    "\t\t'Great effort',\n",
    "\t\t'nice work',\n",
    "\t\t'Excellent!',\n",
    "\t\t'Weak',\n",
    "\t\t'Poor effort!',\n",
    "\t\t'not good',\n",
    "\t\t'poor work',\n",
    "\t\t'Could have done better.']\n",
    "# define class labels\n",
    "labels = np.array([1,1,1,1,1,0,0,0,0,0])\n",
    "# prepare tokenizer\n",
    "t = Tokenizer()\n",
    "t.fit_on_texts(docs)\n",
    "vocab_size = len(t.word_index) + 1\n",
    "# integer encode the documents\n",
    "encoded_docs = t.texts_to_sequences(docs)\n",
    "print(encoded_docs)\n",
    "print(t.word_index)"
   ]
  },
  {
   "cell_type": "code",
   "execution_count": null,
   "metadata": {},
   "outputs": [],
   "source": []
  }
 ],
 "metadata": {
  "kernelspec": {
   "display_name": "Python 3",
   "language": "python",
   "name": "python3"
  },
  "language_info": {
   "codemirror_mode": {
    "name": "ipython",
    "version": 3
   },
   "file_extension": ".py",
   "mimetype": "text/x-python",
   "name": "python",
   "nbconvert_exporter": "python",
   "pygments_lexer": "ipython3",
   "version": "3.7.3"
  }
 },
 "nbformat": 4,
 "nbformat_minor": 2
}
